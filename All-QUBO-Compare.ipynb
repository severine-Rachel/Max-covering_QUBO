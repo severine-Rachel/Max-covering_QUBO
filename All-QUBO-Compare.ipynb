{
 "cells": [
  {
   "cell_type": "code",
   "execution_count": 9,
   "metadata": {},
   "outputs": [],
   "source": [
    "from PuboOnGraph import Graph,listLidar,listCovering\n",
    "pointsL = listLidar\n",
    "points3 = listCovering\n",
    "G = Graph\n",
    "\n",
    "import os\n",
    "from platform import node\n",
    "import numpy as np\n",
    "import qiskit_optimization\n",
    "from docplex.mp.model import Model\n",
    "from qiskit_optimization.problems import QuadraticProgram\n",
    "import networkx as nx\n",
    "import re\n"
   ]
  },
  {
   "cell_type": "code",
   "execution_count": 10,
   "metadata": {},
   "outputs": [
    {
     "data": {
      "text/plain": [
       "'c:\\\\Users\\\\CYTech Student\\\\workspace\\\\Equal.lp'"
      ]
     },
     "execution_count": 10,
     "metadata": {},
     "output_type": "execute_result"
    }
   ],
   "source": [
    "m = Model(name='BMW') \n",
    "\n",
    "x = m.binary_var_dict(pointsL, name='x')\n",
    "m.objective_expr = sum(x[i] for i in pointsL)\n",
    "m.objective_sense = 'min'\n",
    "\n",
    "for node in points3:\n",
    "    m.add_constraint(1 == sum(x[v] for v in G.neighbors(node)))\n",
    "\n",
    "m.export_as_lp(basename=\"Equal\", path=os.path.abspath(\"\"))"
   ]
  },
  {
   "cell_type": "code",
   "execution_count": 11,
   "metadata": {},
   "outputs": [
    {
     "data": {
      "text/plain": [
       "'c:\\\\Users\\\\CYTech Student\\\\workspace\\\\Inequal.lp'"
      ]
     },
     "execution_count": 11,
     "metadata": {},
     "output_type": "execute_result"
    }
   ],
   "source": [
    "m = Model(name='BMW') \n",
    "\n",
    "x = m.binary_var_dict(pointsL, name='x')\n",
    "m.objective_expr = sum(x[i] for i in pointsL)\n",
    "m.objective_sense = 'min'\n",
    "\n",
    "for node in points3:\n",
    "    m.add_constraint(1 <= sum(x[v] for v in G.neighbors(node)))\n",
    "\n",
    "m.export_as_lp(basename=\"Inequal\", path=os.path.abspath(\"\"))"
   ]
  },
  {
   "cell_type": "code",
   "execution_count": 12,
   "metadata": {},
   "outputs": [
    {
     "data": {
      "text/plain": [
       "'c:\\\\Users\\\\CYTech Student\\\\workspace\\\\JR.lp'"
      ]
     },
     "execution_count": 12,
     "metadata": {},
     "output_type": "execute_result"
    }
   ],
   "source": [
    "m = Model(name='BMW') \n",
    "\n",
    "x = m.binary_var_dict(pointsL, name='x')\n",
    "m.objective_expr = sum(x[i] for i in pointsL)\n",
    "m.objective_sense = 'min'\n",
    "\n",
    "y = {node:m.binary_var_list(G.degree(node), name='z_'+str(node)) for node in points3}\n",
    "for node in points3:\n",
    "    m.add_constraint(sum(y[node]) >= 1)\n",
    "\n",
    "for node in points3:\n",
    "    m.add_constraint(sum(y[node]) == sum(x[v] for v in G.neighbors(node)))\n",
    "\n",
    "m.export_as_lp(basename=\"JR\", path=os.path.abspath(\"\"))"
   ]
  },
  {
   "cell_type": "code",
   "execution_count": 13,
   "metadata": {},
   "outputs": [
    {
     "data": {
      "text/plain": [
       "'c:\\\\Users\\\\CYTech Student\\\\workspace\\\\JS.lp'"
      ]
     },
     "execution_count": 13,
     "metadata": {},
     "output_type": "execute_result"
    }
   ],
   "source": [
    "m = Model(name='BMW') \n",
    "\n",
    "x = m.binary_var_dict(pointsL, name='x')\n",
    "m.objective_expr = sum(x[i] for i in pointsL)\n",
    "m.objective_sense = 'min'\n",
    "\n",
    "ub = []\n",
    "for node in points3:\n",
    "    ub.append(G.degree[node])\n",
    "\n",
    "y = m.integer_var_dict(points3, name='y',lb=1, ub=ub)\n",
    "\n",
    "for node in points3:\n",
    "    m.add_constraint(y[node] == sum(x[v] for v in G.neighbors(node)))\n",
    "\n",
    "m.export_as_lp(basename=\"JS\", path=os.path.abspath(\"\"))"
   ]
  },
  {
   "cell_type": "code",
   "execution_count": 14,
   "metadata": {},
   "outputs": [
    {
     "data": {
      "text/plain": [
       "'c:\\\\Users\\\\CYTech Student\\\\workspace\\\\RR.lp'"
      ]
     },
     "execution_count": 14,
     "metadata": {},
     "output_type": "execute_result"
    }
   ],
   "source": [
    "m = Model(name='BMW')\n",
    "x = m.binary_var_dict(pointsL, name='x')\n",
    "m.objective_expr = sum(x[i] for i in pointsL) #minimize the placement of lidars\n",
    "m.objective_sense = 'min'\n",
    "\n",
    "y = m.binary_var_dict(G.edges, name='y')\n",
    "\n",
    "#constraint on edge covering all vertices (allows to ensure that at least one lidar covers the area)\n",
    "for node in points3:\n",
    "  var =[]\n",
    "  for i in G.edges(node):\n",
    "    if i in y:\n",
    "      var.append(y[i])\n",
    "    elif (i[1], i[0]) in y:\n",
    "      var.append(y[i[1],i[0]])\n",
    "  m.add_constraint(sum(var) >= 1)\n",
    "\n",
    "#Link the relation between edge activation and lidar placement activation\n",
    "\n",
    "for node in pointsL:\n",
    "  var =[]\n",
    "  for i in G.edges(node):\n",
    "    if i[0] == node:\n",
    "      if i in y:\n",
    "        var.append(y[i]- x[node])\n",
    "      elif (i[1], i[0]) in y:\n",
    "        var.append(y[i[1],i[0]]- x[node])\n",
    "    m.add_constraint(sum(var) == 0)\n",
    "\n",
    "m.export_as_lp(basename=\"RR\", path=os.path.abspath(\"\"))"
   ]
  },
  {
   "cell_type": "code",
   "execution_count": 15,
   "metadata": {},
   "outputs": [],
   "source": [
    "listQUBO = []\n",
    "QUBONames = [\"RR\",\"JS\",\"JR\",\"Equal\",\"Inequal\"]\n",
    "for i in range (0, 5):\n",
    "    quadratic_program = QuadraticProgram()\n",
    "    quadratic_program.read_from_lp_file(QUBONames[i]+'.lp')\n",
    "\n",
    "    from qiskit_optimization import QuadraticProgram\n",
    "    from qiskit_optimization.converters import QuadraticProgramToQubo\n",
    "    import math\n",
    "    # qubo conversion\n",
    "    conv = QuadraticProgramToQubo()\n",
    "\n",
    "    qp = conv.convert(quadratic_program)\n",
    "    listQUBO.append(qp)"
   ]
  },
  {
   "cell_type": "code",
   "execution_count": 16,
   "metadata": {},
   "outputs": [
    {
     "name": "stdout",
     "output_type": "stream",
     "text": [
      "Number of vertices :  170\n",
      "Number of edges :  351\n",
      "RR  :  625\n",
      "JS  :  289\n",
      "JR  :  625\n",
      "Equal  :  64\n",
      "Inequal  :  256\n"
     ]
    },
    {
     "data": {
      "image/png": "[encoded data removed]",
      "text/plain": [
       "<Figure size 640x480 with 1 Axes>"
      ]
     },
     "metadata": {},
     "output_type": "display_data"
    }
   ],
   "source": [
    "import networkx as nx\n",
    "import matplotlib.pyplot as plt\n",
    "import numpy as np\n",
    "from collections import defaultdict\n",
    "import neal\n",
    "import greedy\n",
    "\n",
    "from PuboOnGraph import Graph,listCovering,listLidar\n",
    "\n",
    "print(\"Number of vertices : \", len(Graph.nodes))\n",
    "print(\"Number of edges : \", len(Graph.edges))\n",
    "colors = [\"green\", \"yellow\", \"purple\", \"orange\", \"pink\"]\n",
    "for idqb,qp in enumerate(listQUBO):\n",
    "    step_coeff= 0\n",
    "    covered = []\n",
    "    nb_lidars = []\n",
    "    res = []\n",
    "    while step_coeff < 2.5:\n",
    "        covereds = []\n",
    "        nb_lidarss = []\n",
    "        ress = []\n",
    "        matrice = qp.objective.quadratic.coefficients.asformat(\"array\")\n",
    "        if step_coeff==0:\n",
    "            print(QUBONames[idqb], \" : \",int(math.sqrt(len(matrice))+1)**2)\n",
    "        diagonal = qp.objective.linear.coefficients.asformat(\"array\")*step_coeff\n",
    "\n",
    "        # Add a x1.3 factor to the factors linked to the constraint\n",
    "\n",
    "\n",
    "        for i in range (len(matrice)):\n",
    "            for j in range(len(matrice[i])):\n",
    "                if j == i:\n",
    "                    matrice[i][j] += diagonal[0][j]\n",
    "                    \n",
    "        for k in range(10):\n",
    "            matrice2 = np.zeros((int(math.sqrt(len(matrice))+1)**2,int(math.sqrt(len(matrice))+1)**2))\n",
    "            matrice2[:len(matrice),:len(matrice)] = matrice\n",
    "\n",
    "            pointsL = listLidar\n",
    "            points3 = listCovering\n",
    "\n",
    "            sampler = neal.SimulatedAnnealingSampler()\n",
    "\n",
    "            sampleset = sampler.sample_qubo(matrice2,\n",
    "                                            num_reads=10,\n",
    "                                            chain_strength=3,\n",
    "                                            \n",
    "                                        )\n",
    "\n",
    "\n",
    "            f = list(sampleset.first.sample.values())\n",
    "            S = []\n",
    "            for i,x in enumerate(pointsL):\n",
    "                if f[i]:\n",
    "                    S.append((x[0], x[1]))\n",
    "            listCoverN = []\n",
    "            for node in S:\n",
    "                for node2 in Graph.neighbors(node):\n",
    "                    if node2 not in listCoverN:\n",
    "                        listCoverN.append(node2)\n",
    "            covereds.append(len(listCoverN))\n",
    "            nb_lidarss.append(len(S))\n",
    "            ress.append(len(listCoverN)-len(S))\n",
    "        covered.append(np.array(covereds).mean())\n",
    "        nb_lidars.append(np.array(nb_lidarss).mean())\n",
    "        res.append(np.array(ress).mean())\n",
    "        step_coeff += 0.1\n",
    "\n",
    "    \n",
    "    plt.plot(nb_lidars, covered, label = \"QUBO : \" + QUBONames[idqb],color=colors[idqb])\n",
    "    if QUBONames[idqb] == \"Equal\":\n",
    "        plt.plot(list(range(60)), [len(points3) for i in range(60)], color = \"red\", label = \"Perfect cover\")\n",
    "\n",
    "    # legend with qubo names and colors\n",
    "    plt.legend()\n",
    "    \n",
    "plt.title(\"Number of covered vertices in function of the number of lidars\")\n",
    "\n",
    "# plt.xlim(20, 45)\n",
    "# plt.ylim(80, 120)\n",
    "\n",
    "plt.xlabel(\"Number of lidars\")\n",
    "plt.ylabel(\"Number of covered vertices\")\n",
    "plt.show()"
   ]
  }
 ],
 "metadata": {
  "kernelspec": {
   "display_name": "Python 3",
   "language": "python",
   "name": "python3"
  },
  "language_info": {
   "codemirror_mode": {
    "name": "ipython",
    "version": 3
   },
   "file_extension": ".py",
   "mimetype": "text/x-python",
   "name": "python",
   "nbconvert_exporter": "python",
   "pygments_lexer": "ipython3",
   "version": "3.8.3"
  },
  "orig_nbformat": 4
 },
 "nbformat": 4,
 "nbformat_minor": 2
}
